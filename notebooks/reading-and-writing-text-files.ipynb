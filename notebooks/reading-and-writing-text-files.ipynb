{
 "cells": [
  {
   "cell_type": "markdown",
   "metadata": {},
   "source": [
    "# Sample text"
   ]
  },
  {
   "cell_type": "code",
   "execution_count": 1,
   "metadata": {
    "collapsed": true
   },
   "outputs": [],
   "source": [
    "outtext=\"\"\"\n",
    "    line1\n",
    "    line2\n",
    "    line3\n",
    "    line4\n",
    "\"\"\""
   ]
  },
  {
   "cell_type": "markdown",
   "metadata": {},
   "source": [
    "# Write this out without modification"
   ]
  },
  {
   "cell_type": "code",
   "execution_count": 3,
   "metadata": {
    "collapsed": true
   },
   "outputs": [],
   "source": [
    "#use a with block so file will close automatically\n",
    "filename='firstfile.txt'\n",
    "with open(filename,'w') as f:\n",
    "    f.write(outtext)"
   ]
  },
  {
   "cell_type": "markdown",
   "metadata": {
    "collapsed": true
   },
   "source": [
    "# Read it back in to check if we did it right"
   ]
  },
  {
   "cell_type": "code",
   "execution_count": 6,
   "metadata": {
    "collapsed": false
   },
   "outputs": [
    {
     "name": "stdout",
     "output_type": "stream",
     "text": [
      "\n",
      "    line1\n",
      "    line2\n",
      "    line3\n",
      "    line4\n",
      "\n"
     ]
    }
   ],
   "source": [
    "with open(filename,'r') as f:\n",
    "    intext=f.read()\n",
    "print(intext)"
   ]
  },
  {
   "cell_type": "markdown",
   "metadata": {},
   "source": [
    "# Add line numbers to each line"
   ]
  },
  {
   "cell_type": "code",
   "execution_count": 7,
   "metadata": {
    "collapsed": true
   },
   "outputs": [],
   "source": [
    "filename='secondfile.txt'\n",
    "with open(filename,'w') as f:\n",
    "    thelines=outtext.split('\\n')  #split on newline\n",
    "    for count,a_line in enumerate(thelines):\n",
    "        f.write('{:02d} {}\\n'.format(count,a_line))"
   ]
  },
  {
   "cell_type": "code",
   "execution_count": 8,
   "metadata": {
    "collapsed": false
   },
   "outputs": [
    {
     "name": "stdout",
     "output_type": "stream",
     "text": [
      "00 \n",
      "01     line1\n",
      "02     line2\n",
      "03     line3\n",
      "04     line4\n",
      "05 \n",
      "\n"
     ]
    }
   ],
   "source": [
    "with open(filename,'r') as f:\n",
    "    intext=f.read()\n",
    "print(intext)"
   ]
  }
 ],
 "metadata": {
  "kernelspec": {
   "display_name": "Python 3",
   "language": "python",
   "name": "python3"
  },
  "language_info": {
   "codemirror_mode": {
    "name": "ipython",
    "version": 3
   },
   "file_extension": ".py",
   "mimetype": "text/x-python",
   "name": "python",
   "nbconvert_exporter": "python",
   "pygments_lexer": "ipython3",
   "version": "3.4.3"
  },
  "nikola": {
   "category": "filesystem",
   "date": "2015-09-21 13:44:04 UTC-07:00",
   "description": "",
   "link": "",
   "slug": "reading-and-writing-text-files",
   "tags": "input/output",
   "title": "Reading and writing text files",
   "type": "text"
  }
 },
 "nbformat": 4,
 "nbformat_minor": 0
}
